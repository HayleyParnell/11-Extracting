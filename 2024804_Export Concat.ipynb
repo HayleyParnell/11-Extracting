{
 "cells": [
  {
   "cell_type": "code",
   "execution_count": 19,
   "id": "d0543e56-be9b-4397-b842-cab8c38fc6eb",
   "metadata": {},
   "outputs": [],
   "source": [
    "import pandas as pd\n",
    "import os\n",
    "\n",
    "# Directory containing CSV files\n",
    "directory = r'C:\\Users\\hparnell\\Desktop\\MH10010\\20240804_People Exports'\n",
    "\n",
    "# List of CSV file names\n",
    "csv_files = [\n",
    "    '20240804_ Group 1 Export.csv',\n",
    "    '20240804_Group 2 Export.csv',\n",
    "    '20240804_Group 3 Export.csv',\n",
    "    '20240804_Group 4 Export.csv',\n",
    "    '20240804_Group 5 Export.csv'\n",
    "]\n",
    "\n",
    "# Full paths to the CSV files\n",
    "csv_paths = [os.path.join(directory, file) for file in csv_files]\n",
    "\n",
    "# List to hold dataframes\n",
    "dfs = []\n",
    "\n",
    "\n",
    "\n",
    "\n"
   ]
  },
  {
   "cell_type": "code",
   "execution_count": 20,
   "id": "1d690925-d151-4751-8540-41893cd8b892",
   "metadata": {},
   "outputs": [],
   "source": [
    "# Define data types for columns\n",
    "dtype = {\n",
    "    'Associated Docs (People)': str,\n",
    "    'People Tracker Control Number': str,\n",
    "    'First Name or Initial': str,\n",
    "    'Middle Name or Initial': str,\n",
    "    'Last Name': str,\n",
    "    'Suffix': str,\n",
    "    'Address': str,\n",
    "    'City': str,\n",
    "    'State': str,\n",
    "    'ZIP Code': str,\n",
    "    'Country (if not USA)': str,\n",
    "    'Date of Birth': str,\n",
    "    'Social Security Number': str,\n",
    "    'PII': str,\n",
    "    'People Group Number': str\n",
    "}"
   ]
  },
  {
   "cell_type": "code",
   "execution_count": 21,
   "id": "44e29673-a5c0-4673-b6ba-04fb0208d58b",
   "metadata": {},
   "outputs": [
    {
     "name": "stdout",
     "output_type": "stream",
     "text": [
      "20240804_ Group 1 Export.csv has 499989 rows.\n",
      "20240804_Group 2 Export.csv has 499997 rows.\n",
      "20240804_Group 3 Export.csv has 499483 rows.\n",
      "20240804_Group 4 Export.csv has 199931 rows.\n",
      "20240804_Group 5 Export.csv has 355193 rows.\n"
     ]
    }
   ],
   "source": [
    "# Loop through the list of file paths and read them into dataframes\n",
    "for path in csv_paths:\n",
    "    df = pd.read_csv(path, dtype=dtype, low_memory=False)\n",
    "        # Print number of rows in the current DataFrame\n",
    "    print(f\"{os.path.basename(path)} has {len(df)} rows.\")\n",
    "        # Convert 'Date of Birth' column to datetime format\n",
    "    df['Date of Birth'] = pd.to_datetime(df['Date of Birth'], errors='coerce')\n",
    "    dfs.append(df)\n"
   ]
  },
  {
   "cell_type": "code",
   "execution_count": 22,
   "id": "55337cfa-e92c-42a0-864c-c44eeb7f13c4",
   "metadata": {},
   "outputs": [],
   "source": [
    "# Concatenate all dataframes\n",
    "combined_df = pd.concat(dfs, ignore_index=True)"
   ]
  },
  {
   "cell_type": "code",
   "execution_count": null,
   "id": "d854eb23-d954-4fd6-8f63-530db7f5e79f",
   "metadata": {},
   "outputs": [],
   "source": [
    "combined_df"
   ]
  },
  {
   "cell_type": "code",
   "execution_count": 25,
   "id": "3c619065-3105-4e5e-af5d-0f710c27b8d7",
   "metadata": {},
   "outputs": [],
   "source": [
    "# Replace NaN values with blank values\n",
    "combined_df = combined_df.fillna('')"
   ]
  },
  {
   "cell_type": "code",
   "execution_count": 27,
   "id": "1fca8e67-c798-4287-accb-a0db53234a3d",
   "metadata": {},
   "outputs": [],
   "source": [
    "# Insert a new column titled \"PHI\" with empty strings as default values\n",
    "combined_df['PHI'] = ''"
   ]
  },
  {
   "cell_type": "code",
   "execution_count": null,
   "id": "48fe0ff6-f690-44ed-a4ae-e7fe353acea0",
   "metadata": {},
   "outputs": [],
   "source": [
    "combined_df.head()"
   ]
  },
  {
   "cell_type": "code",
   "execution_count": 29,
   "id": "1eba8180-b3d3-4992-9ed7-aa67207022ae",
   "metadata": {},
   "outputs": [
    {
     "name": "stdout",
     "output_type": "stream",
     "text": [
      "CSV files have been concatenated into 'combined_output.csv'\n"
     ]
    }
   ],
   "source": [
    "# Save the concatenated dataframe to a new CSV file\n",
    "combined_df.to_csv(os.path.join(directory, 'combined_output.csv'), index=False)\n",
    "\n",
    "print(\"CSV files have been concatenated into 'combined_output.csv'\")"
   ]
  }
 ],
 "metadata": {
  "kernelspec": {
   "display_name": "Python 3 (ipykernel)",
   "language": "python",
   "name": "python3"
  },
  "language_info": {
   "codemirror_mode": {
    "name": "ipython",
    "version": 3
   },
   "file_extension": ".py",
   "mimetype": "text/x-python",
   "name": "python",
   "nbconvert_exporter": "python",
   "pygments_lexer": "ipython3",
   "version": "3.10.14"
  }
 },
 "nbformat": 4,
 "nbformat_minor": 5
}
