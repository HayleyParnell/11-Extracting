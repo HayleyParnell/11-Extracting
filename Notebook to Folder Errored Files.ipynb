{
 "cells": [
  {
   "cell_type": "code",
   "execution_count": 2,
   "id": "b5ff2784-7735-4c06-bec6-c1188ae06573",
   "metadata": {},
   "outputs": [],
   "source": [
    "import os\n",
    "import shutil\n",
    "import pandas as pd\n",
    "from openpyxl import load_workbook\n",
    "from openpyxl.utils.exceptions import InvalidFileException\n",
    "import warnings"
   ]
  },
  {
   "cell_type": "code",
   "execution_count": 4,
   "id": "a2d03785-26fb-4e3a-b783-c4f1e89ab345",
   "metadata": {},
   "outputs": [],
   "source": [
    "# Directory containing your Excel files\n",
    "base_directory = r'C:\\Users\\hparnell\\Desktop\\MH10010\\Resources'\n",
    "errored_directory = os.path.join(base_directory, 'Errored_Files')"
   ]
  },
  {
   "cell_type": "code",
   "execution_count": 5,
   "id": "a42a3bc6-389c-464f-b3ac-5a2b24ab1a77",
   "metadata": {},
   "outputs": [],
   "source": [
    "# List to store all processed dataframes\n",
    "successful_dataframes = []"
   ]
  },
  {
   "cell_type": "code",
   "execution_count": null,
   "id": "fac2587f-b7ca-477e-8fda-efde0c60b206",
   "metadata": {},
   "outputs": [],
   "source": [
    "# Loop through each file in the directory\n",
    "for filename in os.listdir(base_directory):\n",
    "    filepath = os.path.join(base_directory, filename)\n",
    "    \n",
    "    try:\n",
    "        # Load Excel file using openpyxl\n",
    "        wb = load_workbook(filename=filepath, read_only=True)\n",
    "        \n",
    "        # Extract sheet names\n",
    "        sheet_names = wb.sheetnames\n",
    "        \n",
    "        # Loop through each sheet and read data into pandas dataframe\n",
    "        for sheet_name in sheet_names:\n",
    "            ws = wb[sheet_name]\n",
    "            data = ws.values\n",
    "            columns = next(data)  # Assume first row is header\n",
    "            df = pd.DataFrame(data, columns=columns)\n",
    "            \n",
    "            # Append dataframe to the list of successful dataframes\n",
    "            successful_dataframes.append(df)\n",
    "            \n",
    "            print(f\"Processed {filepath} - Sheet: {sheet_name}\")\n",
    "    \n",
    "    except InvalidFileException as e:\n",
    "        # Move errored file to Errored_Files directory\n",
    "        print(f\"Error processing {filepath}: {str(e)}\")\n",
    "        shutil.move(filepath, os.path.join(errored_directory, filename))\n",
    "    \n",
    "    except Exception as e:\n",
    "        # Log or handle other exceptions\n",
    "        print(f\"Error processing {filepath}: {str(e)}\")"
   ]
  },
  {
   "cell_type": "code",
   "execution_count": null,
   "id": "77f7fbb0-1b16-4fb3-89dd-82236a04287a",
   "metadata": {},
   "outputs": [],
   "source": [
    "combined_df = pd.concat(successful_dataframes, ignore_index=True)"
   ]
  },
  {
   "cell_type": "code",
   "execution_count": null,
   "id": "d2eb400b-8e9f-4ac3-848b-1651df67f6ef",
   "metadata": {},
   "outputs": [],
   "source": []
  }
 ],
 "metadata": {
  "kernelspec": {
   "display_name": "Python 3 (ipykernel)",
   "language": "python",
   "name": "python3"
  },
  "language_info": {
   "codemirror_mode": {
    "name": "ipython",
    "version": 3
   },
   "file_extension": ".py",
   "mimetype": "text/x-python",
   "name": "python",
   "nbconvert_exporter": "python",
   "pygments_lexer": "ipython3",
   "version": "3.10.14"
  }
 },
 "nbformat": 4,
 "nbformat_minor": 5
}
