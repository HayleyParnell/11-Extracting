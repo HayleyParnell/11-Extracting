{
 "cells": [
  {
   "cell_type": "code",
   "execution_count": 21,
   "id": "8645182a-a77c-49b5-b405-5ec86dd49427",
   "metadata": {},
   "outputs": [],
   "source": [
    "import pandas as pd\n",
    "import os\n",
    "import glob\n",
    "from openpyxl import load_workbook"
   ]
  },
  {
   "cell_type": "code",
   "execution_count": 22,
   "id": "cb088c5a-192d-4233-b8c4-6843bcc8889e",
   "metadata": {},
   "outputs": [],
   "source": [
    "# Directory where Excel files are stored\n",
    "excel_files_path = r'C:\\Users\\hparnell\\Desktop\\MH10010\\Resources'  \n",
    "\n",
    "# List to hold all the individual dataframes\n",
    "all_dataframes = []\n",
    "\n",
    "# Using glob to find all Excel files in the directory\n",
    "excel_files = glob.glob(os.path.join(excel_files_path, '*.xls*'))  # Adjust file extension if necessary"
   ]
  },
  {
   "cell_type": "code",
   "execution_count": null,
   "id": "2963d395-e8d9-4650-960b-95f51277ce62",
   "metadata": {},
   "outputs": [],
   "source": [
    "# Loop through each Excel file\n",
    "for file in excel_files:\n",
    "    try:\n",
    "        # Load Excel file using openpyxl\n",
    "        wb = load_workbook(filename=file, read_only=True)\n",
    "        \n",
    "        # Extract sheet names\n",
    "        sheet_names = wb.sheetnames\n",
    "        \n",
    "        # Loop through each sheet and read data into pandas dataframe\n",
    "        for sheet_name in sheet_names:\n",
    "            ws = wb[sheet_name]\n",
    "            data = ws.values\n",
    "            columns = next(data)  # Assume first row is header\n",
    "            df = pd.DataFrame(data, columns=columns)\n",
    "            \n",
    "            # Append dataframe to the list\n",
    "            all_dataframes.append(df)\n",
    "            \n",
    "            print(f\"Processed {file} - Sheet: {sheet_name}\")\n",
    "    \n",
    "    except Exception as e:\n",
    "        print(f\"Error processing {file}: {e}\")"
   ]
  },
  {
   "cell_type": "code",
   "execution_count": null,
   "id": "7b4f081e-2d66-4091-8ba9-49c1276eb94a",
   "metadata": {},
   "outputs": [],
   "source": [
    "# Concatenate all dataframes into a single dataframe\n",
    "combined_df = pd.concat(all_dataframes, ignore_index=True)\n",
    "\n",
    "# Now you have all your data in `combined_df`\n",
    "# You can further process or analyze the data as needed\n",
    "\n",
    "# Example: Display first few rows of the combined dataframe\n",
    "print(combined_df.head())"
   ]
  }
 ],
 "metadata": {
  "kernelspec": {
   "display_name": "Python 3 (ipykernel)",
   "language": "python",
   "name": "python3"
  },
  "language_info": {
   "codemirror_mode": {
    "name": "ipython",
    "version": 3
   },
   "file_extension": ".py",
   "mimetype": "text/x-python",
   "name": "python",
   "nbconvert_exporter": "python",
   "pygments_lexer": "ipython3",
   "version": "3.10.14"
  }
 },
 "nbformat": 4,
 "nbformat_minor": 5
}
