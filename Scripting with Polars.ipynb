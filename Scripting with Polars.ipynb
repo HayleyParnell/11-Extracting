{
 "cells": [
  {
   "cell_type": "code",
   "execution_count": 1,
   "id": "05e070b7-fac5-42fa-8fd5-619ecbdb2460",
   "metadata": {},
   "outputs": [],
   "source": [
    "#import dependencies\n",
    "import os\n",
    "import polars as pl\n",
    "import pandas as pd"
   ]
  },
  {
   "cell_type": "code",
   "execution_count": 2,
   "id": "78f620ef-dd58-4cfc-8f1e-69913307be28",
   "metadata": {},
   "outputs": [],
   "source": [
    "# Folder path\n",
    "folder_path = r'C:\\Users\\hparnell\\Desktop\\MH10010\\Resources'"
   ]
  },
  {
   "cell_type": "code",
   "execution_count": 3,
   "id": "50176e1b-27f9-45eb-879e-7af63221f36b",
   "metadata": {},
   "outputs": [],
   "source": [
    "def read_excel_files(folder_path):\n",
    "    all_data = []\n",
    " \n",
    "    for file_name in os.listdir(folder_path):\n",
    "        if file_name.endswith('.xlsx') or file_name.endswith('.xls'):\n",
    "            file_path = os.path.join(folder_path, file_name)\n",
    "            excel_data = pd.ExcelFile(file_path)\n",
    " \n",
    "            for sheet_name in excel_data.sheet_names:\n",
    "                sheet_df = pd.read_excel(file_path, sheet_name=sheet_name, header=None)\n",
    " \n",
    "                # Remove rows with all NaN values (possible Headers and footers)\n",
    "                sheet_df.dropna(how='all', inplace=True)\n",
    " \n",
    "                # Convert problematic data types\n",
    "                for col in sheet_df.columns:\n",
    "                    if pd.api.types.is_datetime64_any_dtype(sheet_df[col]):\n",
    "                        sheet_df[col] = sheet_df[col].astype(str)\n",
    "                    elif pd.api.types.is_object_dtype(sheet_df[col]):\n",
    "                        sheet_df[col] = sheet_df[col].astype(str)\n",
    " \n",
    "                # Convert pandas DataFrame to polars DataFrame\n",
    "                pl_df = pl.from_pandas(sheet_df)\n",
    " \n",
    "                all_data.append(pl_df)\n",
    " \n",
    "    # Concatenate all data into a single polars DataFrame\n",
    "    combined_data = pl.concat(all_data)\n",
    " \n",
    "    return combined_data"
   ]
  },
  {
   "cell_type": "code",
   "execution_count": 4,
   "id": "a0c39699-fd31-42c6-b77d-ca1f9fc1bdfd",
   "metadata": {},
   "outputs": [],
   "source": [
    "def convert_columns(df):\n",
    "    for col in df.columns:\n",
    "        try:\n",
    "            df = df.with_column(pl.col(col).cast(pl.Float64, strict=False))\n",
    "        except:\n",
    "            try:\n",
    "                df = df.with_column(pl.col(col).cast(pl.Int64, strict=False))\n",
    "            except:\n",
    "                df = df.with_column(pl.col(col).cast(pl.Utf8, strict=False))\n",
    "    return df"
   ]
  },
  {
   "cell_type": "code",
   "execution_count": null,
   "id": "77e4e035-7f77-4eba-b626-89a63e364219",
   "metadata": {},
   "outputs": [],
   "source": [
    " # Read and combine data\n",
    "combined_data = read_excel_files(folder_path)\n",
    " \n",
    "# Convert columns to appropriate data types\n",
    "cleaned_data = convert_columns(combined_data)\n",
    " \n",
    "print(cleaned_data)"
   ]
  },
  {
   "cell_type": "code",
   "execution_count": null,
   "id": "d3eecf5a-8c91-45de-832e-06500da4f3fb",
   "metadata": {},
   "outputs": [],
   "source": []
  }
 ],
 "metadata": {
  "kernelspec": {
   "display_name": "Python 3 (ipykernel)",
   "language": "python",
   "name": "python3"
  },
  "language_info": {
   "codemirror_mode": {
    "name": "ipython",
    "version": 3
   },
   "file_extension": ".py",
   "mimetype": "text/x-python",
   "name": "python",
   "nbconvert_exporter": "python",
   "pygments_lexer": "ipython3",
   "version": "3.10.14"
  }
 },
 "nbformat": 4,
 "nbformat_minor": 5
}
