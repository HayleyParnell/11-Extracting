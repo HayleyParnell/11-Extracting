{
 "cells": [
  {
   "cell_type": "code",
   "execution_count": 1,
   "id": "03022c6b-2d9c-4bb7-991c-7eb89c4d3e4d",
   "metadata": {},
   "outputs": [],
   "source": [
    "import pandas as pd\n",
    "import os\n",
    "import warnings\n",
    " \n",
    "# Directory containing the Excel files\n",
    "excel_dir = r'C:\\Users\\hparnell\\Desktop\\MH10010\\Resources'\n",
    " \n",
    "# Read all Excel files into a list of data frames\n",
    "data_frames = []\n",
    "file_names = []\n",
    " \n"
   ]
  },
  {
   "cell_type": "code",
   "execution_count": 2,
   "id": "615bb10d-6486-4198-aee0-b91b02b62271",
   "metadata": {},
   "outputs": [],
   "source": [
    "import os\n",
    "os.environ[\"OMP_NUM_THREADS\"] = \"3\"\n",
    "\n"
   ]
  },
  {
   "cell_type": "code",
   "execution_count": null,
   "id": "8b51537b-e061-4d42-bcaf-25c3a414054d",
   "metadata": {},
   "outputs": [],
   "source": [
    "for file in os.listdir(excel_dir):\n",
    "    if file.endswith('.xlsx') or file.endswith('.xls'):\n",
    "        df = pd.read_excel(os.path.join(excel_dir, file))\n",
    "        data_frames.append(df)\n",
    "        file_names.append(file)"
   ]
  },
  {
   "cell_type": "code",
   "execution_count": 4,
   "id": "3771b7aa-e596-43b5-ba38-89b55ca14486",
   "metadata": {},
   "outputs": [],
   "source": [
    "text_data = []\n",
    " \n",
    "for df in data_frames:\n",
    "    # Convert the entire DataFrame to a single string (customize as needed)\n",
    "    text = df.astype(str).values.flatten()\n",
    "    text = ' '.join(text)\n",
    "    text_data.append(text)"
   ]
  },
  {
   "cell_type": "code",
   "execution_count": 5,
   "id": "3d9e480a-d12d-4ef0-8320-bea26290f5ef",
   "metadata": {},
   "outputs": [],
   "source": [
    "from sklearn.feature_extraction.text import TfidfVectorizer\n",
    " \n",
    "# Preprocessing and vectorization\n",
    "vectorizer = TfidfVectorizer(stop_words='english')\n",
    "X = vectorizer.fit_transform(text_data)"
   ]
  },
  {
   "cell_type": "code",
   "execution_count": 6,
   "id": "f9df104c-f5b2-4cf0-82a4-83845a82925d",
   "metadata": {},
   "outputs": [],
   "source": [
    "from sklearn.metrics.pairwise import cosine_similarity\n",
    " \n",
    "# Calculate the cosine similarity matrix\n",
    "similarity_matrix = cosine_similarity(X)"
   ]
  },
  {
   "cell_type": "code",
   "execution_count": 7,
   "id": "995db6a3-d64e-47b7-b0aa-be15b1ea8c60",
   "metadata": {},
   "outputs": [],
   "source": [
    "from sklearn.cluster import KMeans\n",
    " \n",
    "# Perform K-means clustering\n",
    "num_clusters = 10  # Adjust based on your needs\n",
    "kmeans = KMeans(n_clusters=num_clusters, random_state=0).fit(similarity_matrix)\n",
    " \n",
    "# Get cluster labels\n",
    "labels = kmeans.labels_"
   ]
  },
  {
   "cell_type": "code",
   "execution_count": null,
   "id": "24cf1935-e324-4991-84a0-6d01373998c3",
   "metadata": {},
   "outputs": [],
   "source": [
    "# Create a dictionary to hold the subsets\n",
    "subsets = {i: [] for i in range(num_clusters)}\n",
    " \n",
    "# Assign files to clusters\n",
    "for i, label in enumerate(labels):\n",
    "    subsets[label].append(file_names[i])\n",
    " \n",
    "# Print or save the subsets\n",
    "for cluster, files in subsets.items():\n",
    "    print(f\"Cluster {cluster}:\")\n",
    "    for file in files:\n",
    "        print(f\"  - {file}\")"
   ]
  },
  {
   "cell_type": "code",
   "execution_count": null,
   "id": "fc261e5a-76af-46c7-8020-12c192baccb5",
   "metadata": {},
   "outputs": [],
   "source": [
    "import pandas as pd\n",
    "\n",
    "# Create a dictionary to hold the subsets\n",
    "subsets = {i: [] for i in range(num_clusters)}\n",
    "\n",
    "# Assign files to clusters\n",
    "for i, label in enumerate(labels):\n",
    "    subsets[label].append(file_names[i])\n",
    "\n",
    "# Create a DataFrame for each subset and store them in a dictionary\n",
    "dataframes = {cluster: pd.DataFrame(files, columns=[\"File Name\"]) for cluster, files in subsets.items()}\n",
    "\n",
    "# Example: Print each DataFrame\n",
    "for cluster, df in dataframes.items():\n",
    "    print(f\"Cluster {cluster} DataFrame:\")\n",
    "    print(df)\n"
   ]
  },
  {
   "cell_type": "code",
   "execution_count": null,
   "id": "65d37a6b-77ab-45a5-940d-25a6348540b3",
   "metadata": {},
   "outputs": [],
   "source": []
  }
 ],
 "metadata": {
  "kernelspec": {
   "display_name": "Python 3 (ipykernel)",
   "language": "python",
   "name": "python3"
  },
  "language_info": {
   "codemirror_mode": {
    "name": "ipython",
    "version": 3
   },
   "file_extension": ".py",
   "mimetype": "text/x-python",
   "name": "python",
   "nbconvert_exporter": "python",
   "pygments_lexer": "ipython3",
   "version": "3.10.14"
  }
 },
 "nbformat": 4,
 "nbformat_minor": 5
}
