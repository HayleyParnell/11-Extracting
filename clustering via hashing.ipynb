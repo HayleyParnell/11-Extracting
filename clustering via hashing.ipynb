{
 "cells": [
  {
   "cell_type": "code",
   "execution_count": 1,
   "id": "fcd7a0fc-6747-46ec-9559-ed1160494e6e",
   "metadata": {},
   "outputs": [],
   "source": [
    "import os\n",
    "import pandas as pd\n",
    "from collections import defaultdict\n",
    "import hashlib"
   ]
  },
  {
   "cell_type": "code",
   "execution_count": 2,
   "id": "80c116d7-8cb2-44be-bc49-835511ace4be",
   "metadata": {},
   "outputs": [],
   "source": [
    "def get_file_paths(directory):\n",
    "    file_paths = []\n",
    "    for root, dirs, files in os.walk(directory):\n",
    "        for file in files:\n",
    "            if file.endswith('.xlsx') or file.endswith('.xls'):\n",
    "                file_paths.append(os.path.join(root, file))\n",
    "    return file_paths"
   ]
  },
  {
   "cell_type": "code",
   "execution_count": 3,
   "id": "d5d4b8f8-21dc-4904-9750-371a7b56668f",
   "metadata": {},
   "outputs": [],
   "source": [
    "def hash_columns(columns):\n",
    "    return hashlib.md5(''.join(sorted(columns)).encode()).hexdigest()"
   ]
  },
  {
   "cell_type": "code",
   "execution_count": 4,
   "id": "c5b9f13e-7856-4ac7-b4a1-32ac61630a27",
   "metadata": {},
   "outputs": [],
   "source": [
    "def cluster_files_by_headers(file_paths):\n",
    "    clusters = defaultdict(list)\n",
    "    for file_path in file_paths:\n",
    "        try:\n",
    "            df = pd.read_excel(file_path, nrows=0)  # Read only the headers\n",
    "            column_hash = hash_columns(df.columns)\n",
    "            clusters[column_hash].append(file_path)\n",
    "        except Exception as e:\n",
    "            print(f\"Error reading {file_path}: {e}\")\n",
    "    return clusters"
   ]
  },
  {
   "cell_type": "code",
   "execution_count": 5,
   "id": "ae163201-45ce-4e95-8f2b-7b4c1ee420f0",
   "metadata": {},
   "outputs": [
    {
     "name": "stderr",
     "output_type": "stream",
     "text": [
      "C:\\ProgramData\\anaconda3\\envs\\dev\\lib\\site-packages\\openpyxl\\styles\\stylesheet.py:226: UserWarning: Workbook contains no default style, apply openpyxl's default\n",
      "  warn(\"Workbook contains no default style, apply openpyxl's default\")\n"
     ]
    },
    {
     "name": "stdout",
     "output_type": "stream",
     "text": [
      "Error reading C:\\Users\\hparnell\\Desktop\\MH10010\\Resources\\AWIR.00000001.00000001.00013574.xlsx: '<' not supported between instances of 'int' and 'str'\n",
      "Error reading C:\\Users\\hparnell\\Desktop\\MH10010\\Resources\\AWIR.00000001.00000001.00020255.xlsx: '<' not supported between instances of 'str' and 'int'\n",
      "Error reading C:\\Users\\hparnell\\Desktop\\MH10010\\Resources\\AWIR.00000001.00000001.00020261.xlsx: '<' not supported between instances of 'str' and 'int'\n",
      "Error reading C:\\Users\\hparnell\\Desktop\\MH10010\\Resources\\AWIR.00000001.00000001.00020287.xlsx: '<' not supported between instances of 'str' and 'int'\n",
      "Error reading C:\\Users\\hparnell\\Desktop\\MH10010\\Resources\\AWIR.00000001.00000001.00020297.xlsx: '<' not supported between instances of 'str' and 'int'\n",
      "Error reading C:\\Users\\hparnell\\Desktop\\MH10010\\Resources\\AWIR.00000001.00000001.00020304.xlsx: '<' not supported between instances of 'str' and 'int'\n",
      "Error reading C:\\Users\\hparnell\\Desktop\\MH10010\\Resources\\AWIR.00000001.00000001.00035650.xlsx: '<' not supported between instances of 'datetime.datetime' and 'str'\n",
      "Error reading C:\\Users\\hparnell\\Desktop\\MH10010\\Resources\\AWIR.00000001.00000001.00035862.xlsx: '<' not supported between instances of 'int' and 'str'\n",
      "Error reading C:\\Users\\hparnell\\Desktop\\MH10010\\Resources\\AWIR.00000001.00000001.00035865.xlsx: '<' not supported between instances of 'int' and 'str'\n",
      "Error reading C:\\Users\\hparnell\\Desktop\\MH10010\\Resources\\AWIR.00000001.00000001.00037215.xlsx: '<' not supported between instances of 'str' and 'datetime.datetime'\n",
      "Error reading C:\\Users\\hparnell\\Desktop\\MH10010\\Resources\\AWIR.00000001.00000001.00037223.xlsx: '<' not supported between instances of 'str' and 'datetime.datetime'\n",
      "Error reading C:\\Users\\hparnell\\Desktop\\MH10010\\Resources\\AWIR.00000001.00000001.00037228.xlsx: '<' not supported between instances of 'str' and 'datetime.datetime'\n",
      "Error reading C:\\Users\\hparnell\\Desktop\\MH10010\\Resources\\AWIR.00000001.00000001.00037229.xlsx: '<' not supported between instances of 'str' and 'datetime.datetime'\n",
      "Error reading C:\\Users\\hparnell\\Desktop\\MH10010\\Resources\\AWIR.00000001.00000001.00037230.xlsx: '<' not supported between instances of 'str' and 'datetime.datetime'\n",
      "Error reading C:\\Users\\hparnell\\Desktop\\MH10010\\Resources\\AWIR.00000001.00000001.00037231.xlsx: '<' not supported between instances of 'str' and 'datetime.datetime'\n",
      "Error reading C:\\Users\\hparnell\\Desktop\\MH10010\\Resources\\AWIR.00000001.00000001.00037232.xlsx: '<' not supported between instances of 'str' and 'datetime.datetime'\n",
      "Error reading C:\\Users\\hparnell\\Desktop\\MH10010\\Resources\\AWIR.00000001.00000001.00037233.xlsx: '<' not supported between instances of 'str' and 'datetime.datetime'\n",
      "Error reading C:\\Users\\hparnell\\Desktop\\MH10010\\Resources\\AWIR.00000001.00000001.00037236.xlsx: '<' not supported between instances of 'str' and 'datetime.datetime'\n",
      "Error reading C:\\Users\\hparnell\\Desktop\\MH10010\\Resources\\AWIR.00000001.00000001.00037237.xlsx: '<' not supported between instances of 'str' and 'datetime.datetime'\n",
      "Error reading C:\\Users\\hparnell\\Desktop\\MH10010\\Resources\\AWIR.00000001.00000001.00037238.xlsx: '<' not supported between instances of 'str' and 'datetime.datetime'\n",
      "Error reading C:\\Users\\hparnell\\Desktop\\MH10010\\Resources\\AWIR.00000001.00000001.00037239.xlsx: '<' not supported between instances of 'str' and 'datetime.datetime'\n",
      "Error reading C:\\Users\\hparnell\\Desktop\\MH10010\\Resources\\AWIR.00000001.00000001.00037240.xlsx: '<' not supported between instances of 'str' and 'datetime.datetime'\n",
      "Error reading C:\\Users\\hparnell\\Desktop\\MH10010\\Resources\\AWIR.00000001.00000001.00037241.xlsx: '<' not supported between instances of 'str' and 'datetime.datetime'\n",
      "Error reading C:\\Users\\hparnell\\Desktop\\MH10010\\Resources\\AWIR.00000001.00000001.00037242.xlsx: '<' not supported between instances of 'str' and 'datetime.datetime'\n",
      "Error reading C:\\Users\\hparnell\\Desktop\\MH10010\\Resources\\AWIR.00000001.00000001.00037243.xlsx: '<' not supported between instances of 'str' and 'datetime.datetime'\n",
      "Error reading C:\\Users\\hparnell\\Desktop\\MH10010\\Resources\\AWIR.00000001.00000001.00037244.xlsx: '<' not supported between instances of 'str' and 'datetime.datetime'\n",
      "Error reading C:\\Users\\hparnell\\Desktop\\MH10010\\Resources\\AWIR.00000001.00000001.00037245.xlsx: '<' not supported between instances of 'str' and 'datetime.datetime'\n",
      "Error reading C:\\Users\\hparnell\\Desktop\\MH10010\\Resources\\AWIR.00000001.00000001.00037246.xlsx: '<' not supported between instances of 'str' and 'datetime.datetime'\n",
      "Error reading C:\\Users\\hparnell\\Desktop\\MH10010\\Resources\\AWIR.00000001.00000001.00037248.xlsx: '<' not supported between instances of 'str' and 'datetime.datetime'\n",
      "Error reading C:\\Users\\hparnell\\Desktop\\MH10010\\Resources\\AWIR.00000001.00000001.00037250.xlsx: '<' not supported between instances of 'str' and 'datetime.datetime'\n",
      "Error reading C:\\Users\\hparnell\\Desktop\\MH10010\\Resources\\AWIR.00000001.00000001.00037252.xlsx: '<' not supported between instances of 'str' and 'datetime.datetime'\n",
      "Error reading C:\\Users\\hparnell\\Desktop\\MH10010\\Resources\\AWIR.00000001.00000001.00037255.xlsx: '<' not supported between instances of 'str' and 'datetime.datetime'\n",
      "Error reading C:\\Users\\hparnell\\Desktop\\MH10010\\Resources\\AWIR.00000001.00000001.00037256.xlsx: '<' not supported between instances of 'str' and 'datetime.datetime'\n",
      "Error reading C:\\Users\\hparnell\\Desktop\\MH10010\\Resources\\AWIR.00000001.00000001.00037258.xlsx: '<' not supported between instances of 'str' and 'datetime.datetime'\n",
      "Error reading C:\\Users\\hparnell\\Desktop\\MH10010\\Resources\\AWIR.00000001.00000001.00037259.xlsx: '<' not supported between instances of 'str' and 'datetime.datetime'\n",
      "Error reading C:\\Users\\hparnell\\Desktop\\MH10010\\Resources\\AWIR.00000001.00000001.00037265.xlsx: '<' not supported between instances of 'str' and 'datetime.datetime'\n",
      "Error reading C:\\Users\\hparnell\\Desktop\\MH10010\\Resources\\AWIR.00000001.00000001.00037272.xlsx: '<' not supported between instances of 'str' and 'datetime.datetime'\n",
      "Error reading C:\\Users\\hparnell\\Desktop\\MH10010\\Resources\\AWIR.00000001.00000001.00037273.xlsx: '<' not supported between instances of 'str' and 'datetime.datetime'\n",
      "Error reading C:\\Users\\hparnell\\Desktop\\MH10010\\Resources\\AWIR.00000001.00000001.00037276.xlsx: '<' not supported between instances of 'str' and 'datetime.datetime'\n",
      "Error reading C:\\Users\\hparnell\\Desktop\\MH10010\\Resources\\AWIR.00000001.00000001.00037278.xlsx: '<' not supported between instances of 'str' and 'datetime.datetime'\n",
      "Error reading C:\\Users\\hparnell\\Desktop\\MH10010\\Resources\\AWIR.00000001.00000001.00037281.xlsx: '<' not supported between instances of 'str' and 'datetime.datetime'\n",
      "Error reading C:\\Users\\hparnell\\Desktop\\MH10010\\Resources\\AWIR.00000001.00000001.00037293.xlsx: '<' not supported between instances of 'str' and 'datetime.datetime'\n",
      "Error reading C:\\Users\\hparnell\\Desktop\\MH10010\\Resources\\AWIR.00000001.00000001.00037295.xlsx: '<' not supported between instances of 'str' and 'datetime.datetime'\n",
      "Error reading C:\\Users\\hparnell\\Desktop\\MH10010\\Resources\\AWIR.00000001.00000001.00037296.xlsx: '<' not supported between instances of 'str' and 'datetime.datetime'\n",
      "Error reading C:\\Users\\hparnell\\Desktop\\MH10010\\Resources\\AWIR.00000001.00000001.00037297.xlsx: '<' not supported between instances of 'str' and 'datetime.datetime'\n",
      "Error reading C:\\Users\\hparnell\\Desktop\\MH10010\\Resources\\AWIR.00000001.00000001.00037304.xlsx: sequence item 0: expected str instance, Timestamp found\n",
      "Error reading C:\\Users\\hparnell\\Desktop\\MH10010\\Resources\\AWIR.00000001.00000001.00037305.xlsx: '<' not supported between instances of 'str' and 'datetime.datetime'\n",
      "Error reading C:\\Users\\hparnell\\Desktop\\MH10010\\Resources\\AWIR.00000001.00000001.00039846.xlsx: '<' not supported between instances of 'datetime.datetime' and 'str'\n"
     ]
    },
    {
     "name": "stderr",
     "output_type": "stream",
     "text": [
      "C:\\ProgramData\\anaconda3\\envs\\dev\\lib\\site-packages\\openpyxl\\reader\\workbook.py:118: UserWarning: Print area cannot be set to Defined name: 'Apr15'!$A:$G.\n",
      "  warn(f\"Print area cannot be set to Defined name: {defn.value}.\")\n",
      "C:\\ProgramData\\anaconda3\\envs\\dev\\lib\\site-packages\\openpyxl\\reader\\workbook.py:118: UserWarning: Print area cannot be set to Defined name: 'Aug15'!$A:$G.\n",
      "  warn(f\"Print area cannot be set to Defined name: {defn.value}.\")\n",
      "C:\\ProgramData\\anaconda3\\envs\\dev\\lib\\site-packages\\openpyxl\\reader\\workbook.py:118: UserWarning: Print area cannot be set to Defined name: 'Feb15'!$A:$G.\n",
      "  warn(f\"Print area cannot be set to Defined name: {defn.value}.\")\n",
      "C:\\ProgramData\\anaconda3\\envs\\dev\\lib\\site-packages\\openpyxl\\reader\\workbook.py:118: UserWarning: Print area cannot be set to Defined name: 'Jul15'!$A:$G.\n",
      "  warn(f\"Print area cannot be set to Defined name: {defn.value}.\")\n",
      "C:\\ProgramData\\anaconda3\\envs\\dev\\lib\\site-packages\\openpyxl\\reader\\workbook.py:118: UserWarning: Print area cannot be set to Defined name: 'Mar15'!$A:$G.\n",
      "  warn(f\"Print area cannot be set to Defined name: {defn.value}.\")\n",
      "C:\\ProgramData\\anaconda3\\envs\\dev\\lib\\site-packages\\openpyxl\\reader\\workbook.py:118: UserWarning: Print area cannot be set to Defined name: 'Oct15'!$A:$G.\n",
      "  warn(f\"Print area cannot be set to Defined name: {defn.value}.\")\n",
      "C:\\ProgramData\\anaconda3\\envs\\dev\\lib\\site-packages\\openpyxl\\reader\\workbook.py:118: UserWarning: Print area cannot be set to Defined name: 'Sep15'!$A:$G.\n",
      "  warn(f\"Print area cannot be set to Defined name: {defn.value}.\")\n"
     ]
    },
    {
     "name": "stdout",
     "output_type": "stream",
     "text": [
      "Error reading C:\\Users\\hparnell\\Desktop\\MH10010\\Resources\\AWIR.00000001.00000001.00061772.xlsx: '<' not supported between instances of 'float' and 'str'\n",
      "Error reading C:\\Users\\hparnell\\Desktop\\MH10010\\Resources\\AWIR.00000001.00000001.00061773.xlsx: '<' not supported between instances of 'float' and 'str'\n",
      "Error reading C:\\Users\\hparnell\\Desktop\\MH10010\\Resources\\AWIR.00000001.00000001.00061774.xlsx: '<' not supported between instances of 'float' and 'str'\n",
      "Error reading C:\\Users\\hparnell\\Desktop\\MH10010\\Resources\\AWIR.00000001.00000001.00062897.xlsx: '<' not supported between instances of 'int' and 'str'\n",
      "Error reading C:\\Users\\hparnell\\Desktop\\MH10010\\Resources\\AWIR.00000001.00000001.00062901.xlsx: '<' not supported between instances of 'int' and 'str'\n"
     ]
    },
    {
     "name": "stderr",
     "output_type": "stream",
     "text": [
      "C:\\ProgramData\\anaconda3\\envs\\dev\\lib\\site-packages\\openpyxl\\styles\\stylesheet.py:226: UserWarning: Workbook contains no default style, apply openpyxl's default\n",
      "  warn(\"Workbook contains no default style, apply openpyxl's default\")\n",
      "C:\\ProgramData\\anaconda3\\envs\\dev\\lib\\site-packages\\openpyxl\\styles\\stylesheet.py:226: UserWarning: Workbook contains no default style, apply openpyxl's default\n",
      "  warn(\"Workbook contains no default style, apply openpyxl's default\")\n",
      "C:\\ProgramData\\anaconda3\\envs\\dev\\lib\\site-packages\\openpyxl\\styles\\stylesheet.py:226: UserWarning: Workbook contains no default style, apply openpyxl's default\n",
      "  warn(\"Workbook contains no default style, apply openpyxl's default\")\n"
     ]
    },
    {
     "name": "stdout",
     "output_type": "stream",
     "text": [
      "Error reading C:\\Users\\hparnell\\Desktop\\MH10010\\Resources\\AWIR.00000001.00000001.00068410.xlsx: '<' not supported between instances of 'float' and 'str'\n",
      "Error reading C:\\Users\\hparnell\\Desktop\\MH10010\\Resources\\AWIR.00000001.00000001.00068418.xlsx: '<' not supported between instances of 'float' and 'str'\n",
      "Error reading C:\\Users\\hparnell\\Desktop\\MH10010\\Resources\\AWIR.00000001.00000001.00068420.xlsx: '<' not supported between instances of 'float' and 'str'\n",
      "Error reading C:\\Users\\hparnell\\Desktop\\MH10010\\Resources\\AWIR.00000001.00000001.00068460.xlsx: '<' not supported between instances of 'float' and 'str'\n",
      "Error reading C:\\Users\\hparnell\\Desktop\\MH10010\\Resources\\AWIR.00000001.00000001.00069079.xlsx: '<' not supported between instances of 'float' and 'str'\n",
      "Error reading C:\\Users\\hparnell\\Desktop\\MH10010\\Resources\\AWIR.00000001.00000001.00069080.xlsx: '<' not supported between instances of 'float' and 'str'\n",
      "Error reading C:\\Users\\hparnell\\Desktop\\MH10010\\Resources\\AWIR.00000001.00000001.00069278.xlsx: '<' not supported between instances of 'datetime.datetime' and 'str'\n"
     ]
    }
   ],
   "source": [
    "# Directory containing your Excel files\n",
    "directory = r'C:\\Users\\hparnell\\Desktop\\MH10010\\Resources'\n",
    "file_paths = get_file_paths(directory)\n",
    "clusters = cluster_files_by_headers(file_paths)"
   ]
  },
  {
   "cell_type": "code",
   "execution_count": null,
   "id": "9035da6e-a685-4bef-a258-76f36f679830",
   "metadata": {},
   "outputs": [],
   "source": [
    "# Display clusters\n",
    "for column_hash, files in clusters.items():\n",
    "    print(f\"Cluster {column_hash}: {len(files)} files\")\n",
    "    for file in files:\n",
    "        print(f\"  {file}\")"
   ]
  },
  {
   "cell_type": "code",
   "execution_count": null,
   "id": "2093864f-5bd3-4dbc-8892-5a286429759b",
   "metadata": {},
   "outputs": [],
   "source": [
    "from pyspark.sql import SparkSession\n",
    "from pyspark.sql.types import StructType, StructField, StringType"
   ]
  },
  {
   "cell_type": "code",
   "execution_count": null,
   "id": "60ca943e-50eb-448d-8237-a88b217f9eef",
   "metadata": {},
   "outputs": [],
   "source": [
    "# Initialize Spark session\n",
    "spark = SparkSession.builder.appName(\"ExcelProcessing\").getOrCreate()"
   ]
  },
  {
   "cell_type": "code",
   "execution_count": null,
   "id": "37bdbdca-3f67-46ce-aee2-e465714205c5",
   "metadata": {},
   "outputs": [],
   "source": [
    "def get_string_schema(columns):\n",
    "    return StructType([StructField(column, StringType(), True) for column in columns])"
   ]
  },
  {
   "cell_type": "code",
   "execution_count": null,
   "id": "a1753f3f-3544-4898-8fd1-e5ee3d1ad0d8",
   "metadata": {},
   "outputs": [],
   "source": [
    "# Sample schema for demonstration\n",
    "sample_columns = ['Column1', 'Column2', 'Column3']\n",
    "schema = get_string_schema(sample_columns)\n",
    "print(schema)"
   ]
  },
  {
   "cell_type": "code",
   "execution_count": null,
   "id": "61382c51-5ce0-455f-ae5b-ba324f1b6348",
   "metadata": {},
   "outputs": [],
   "source": [
    "spark = SparkSession.builder \\\n",
    "    .appName(\"ExcelProcessing\") \\\n",
    "    .config(\"spark.jars.packages\", \"com.crealytics:spark-excel_2.12:0.13.5\") \\\n",
    "    .getOrCreate()"
   ]
  },
  {
   "cell_type": "code",
   "execution_count": null,
   "id": "25418173-f5f9-45f3-9b3c-2fa35625ca75",
   "metadata": {},
   "outputs": [],
   "source": [
    "def load_data_to_dataframe(file_path, schema):\n",
    "    try:\n",
    "        df = spark.read.format('com.crealytics.spark.excel') \\\n",
    "                       .option('dataAddress', \"'Sheet1'!A1\") \\\n",
    "                       .option('header', 'true') \\\n",
    "                       .option('inferSchema', 'false') \\\n",
    "                       .schema(schema) \\\n",
    "                       .load(file_path)\n",
    "        return df\n",
    "    except Exception as e:\n",
    "        print(f\"Error loading {file_path}: {e}\")\n",
    "        return None"
   ]
  },
  {
   "cell_type": "code",
   "execution_count": null,
   "id": "f4560b39-a0c3-42ff-985d-a1432d22aa6c",
   "metadata": {},
   "outputs": [],
   "source": [
    "# Load data for each cluster\n",
    "dataframes = []\n",
    "for column_hash, files in clusters.items():\n",
    "    if files:\n",
    "        # Use the first file to infer the schema\n",
    "        sample_df = pd.read_excel(files[0], nrows=0)\n",
    "        schema = get_string_schema(sample_df.columns)\n",
    "        for file in files:\n",
    "            df = load_data_to_dataframe(file, schema)\n",
    "            if df:\n",
    "                dataframes.append(df)"
   ]
  },
  {
   "cell_type": "code",
   "execution_count": null,
   "id": "e91facf5-68d3-490a-af17-e0dae358e2ef",
   "metadata": {},
   "outputs": [],
   "source": [
    "# Combine all DataFrames into one (if needed)\n",
    "if dataframes:\n",
    "    combined_df = dataframes[0]\n",
    "    for df in dataframes[1:]:\n",
    "        combined_df = combined_df.union(df)"
   ]
  },
  {
   "cell_type": "code",
   "execution_count": null,
   "id": "0b872c8a-a76b-4271-9c6c-eacaeb896be1",
   "metadata": {},
   "outputs": [],
   "source": [
    "# Show combined DataFrame\n",
    "combined_df.show()"
   ]
  }
 ],
 "metadata": {
  "kernelspec": {
   "display_name": "Python 3 (ipykernel)",
   "language": "python",
   "name": "python3"
  },
  "language_info": {
   "codemirror_mode": {
    "name": "ipython",
    "version": 3
   },
   "file_extension": ".py",
   "mimetype": "text/x-python",
   "name": "python",
   "nbconvert_exporter": "python",
   "pygments_lexer": "ipython3",
   "version": "3.10.14"
  }
 },
 "nbformat": 4,
 "nbformat_minor": 5
}
