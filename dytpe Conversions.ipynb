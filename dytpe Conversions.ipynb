{
 "cells": [
  {
   "cell_type": "code",
   "execution_count": 6,
   "id": "48b46e2d-ab68-454b-b7cb-0d0ea0809fe8",
   "metadata": {},
   "outputs": [],
   "source": [
    "import os\n",
    "import pandas as pd\n",
    "from collections import defaultdict\n",
    "from sklearn.feature_extraction.text import TfidfVectorizer\n",
    "from sklearn.cluster import KMeans\n",
    "from pyspark.sql import SparkSession\n",
    "from pyspark.sql.types import StructType, StructField, StringType\n",
    "import warnings"
   ]
  },
  {
   "cell_type": "code",
   "execution_count": 7,
   "id": "5370020c-8f99-4daf-a595-953a9d0ac40c",
   "metadata": {},
   "outputs": [],
   "source": [
    "# Step 1: Extract Column Headers\n",
    "def get_file_paths(directory):\n",
    "    file_paths = []\n",
    "    for root, dirs, files in os.walk(directory):\n",
    "        for file in files:\n",
    "            if file.endswith('.xlsx') or file.endswith('.xls'):\n",
    "                file_paths.append(os.path.join(root, file))\n",
    "    return file_paths"
   ]
  },
  {
   "cell_type": "code",
   "execution_count": 8,
   "id": "a9f159b1-3fee-44c2-9d4a-59e45b040625",
   "metadata": {},
   "outputs": [],
   "source": [
    "def extract_column_headers(file_paths):\n",
    "    headers = []\n",
    "    file_map = {}\n",
    "    for file_path in file_paths:\n",
    "        try:\n",
    "            df = pd.read_excel(file_path, nrows=0)  # Read only the headers\n",
    "            column_headers = ' '.join(df.columns)  # Combine headers into a single string\n",
    "            headers.append(column_headers)\n",
    "            file_map[column_headers] = file_path\n",
    "        except Exception as e:\n",
    "            print(f\"Error reading {file_path}: {e}\")\n",
    "    return headers, file_map"
   ]
  },
  {
   "cell_type": "code",
   "execution_count": null,
   "id": "e6c9fde2-2090-4399-9032-d61114af95c6",
   "metadata": {},
   "outputs": [],
   "source": [
    "# Directory containing your Excel files\n",
    "directory = r'C:\\Users\\hparnell\\Desktop\\MH10010\\Resources'\n",
    "file_paths = get_file_paths(directory)\n",
    "headers, file_map = extract_column_headers(file_paths)"
   ]
  },
  {
   "cell_type": "code",
   "execution_count": null,
   "id": "c2528c8b-f9e7-4762-93c1-1fd43c6ef96d",
   "metadata": {},
   "outputs": [],
   "source": []
  }
 ],
 "metadata": {
  "kernelspec": {
   "display_name": "Python 3 (ipykernel)",
   "language": "python",
   "name": "python3"
  },
  "language_info": {
   "codemirror_mode": {
    "name": "ipython",
    "version": 3
   },
   "file_extension": ".py",
   "mimetype": "text/x-python",
   "name": "python",
   "nbconvert_exporter": "python",
   "pygments_lexer": "ipython3",
   "version": "3.10.14"
  }
 },
 "nbformat": 4,
 "nbformat_minor": 5
}
